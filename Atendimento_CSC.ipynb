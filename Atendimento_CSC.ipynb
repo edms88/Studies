{
  "nbformat": 4,
  "nbformat_minor": 0,
  "metadata": {
    "colab": {
      "provenance": [],
      "collapsed_sections": [],
      "mount_file_id": "1WwxBrX2j9AgVsgW7qNLW87L20TEG6Bkb",
      "authorship_tag": "ABX9TyPOAHIoNnI4nvSJfIJQy35t",
      "include_colab_link": true
    },
    "kernelspec": {
      "name": "python3",
      "display_name": "Python 3"
    },
    "language_info": {
      "name": "python"
    }
  },
  "cells": [
    {
      "cell_type": "markdown",
      "metadata": {
        "id": "view-in-github",
        "colab_type": "text"
      },
      "source": [
        "<a href=\"https://colab.research.google.com/github/edms88/Studies/blob/main/Atendimento_CSC.ipynb\" target=\"_parent\"><img src=\"https://colab.research.google.com/assets/colab-badge.svg\" alt=\"Open In Colab\"/></a>"
      ]
    },
    {
      "cell_type": "code",
      "source": [
        "import pandas as pd \n",
        "import csv \n",
        "import os\n",
        "import shutil\n",
        "import datetime as dt \n",
        "\n",
        "cs00 = pd.read_csv('/content/drive/Othercomputers/Meu laptop/Braskem CSV/sn_customerservice_case.csv', encoding='ISO=8859-1', sep=',')  #pt01 importação da base\n",
        "\n",
        "#renomeação de colunas\n",
        "cs00.columns = ['Chamado','Estado','Primario','Categoria','Tipo de Servicos','Empresa','Solicitante','Aberto','Grupo de atribuição','Atribuido','Fornecedor','Cliente',\\\n",
        "    'Integrante','Canal','Prazo','Encerrado','Sla Total','SLA Previsto','SLA Tempo medio','Atraso']\n",
        "\n",
        "ritm = pd.read_csv('/content/drive/Othercomputers/Meu laptop/Braskem CSV/sc_req_item.csv', encoding='ISO=8859-1', sep=',')\n",
        "#renomeação de colunas\n",
        "ritm.columns = ['Chamado','Estado','Primario','Categoria','Tipo de Servicos','Empresa','Solicitante','Aberto','Grupo de atribuição','Atribuido','Fornecedor','Cliente',\\\n",
        "    'Integrante','Canal','Prazo','Encerrado','Sla Total','SLA Previsto','SLA Tempo medio','Atraso']\n",
        "\n",
        "#Concatenar pt1 & pt2 trocando nomes dos items de serviço\n",
        "base = pd.concat([ritm,cs00], ignore_index=True).replace(['Processo da Compras ao Pagamento (Fornecedor)','Processo da Venda ao Recebimento (Cliente)',\\\n",
        "    'Alteração de Dados Bancários de Fornecedor','Cancelamento de Nota Fiscal - Material','Cancelamento de Nota Fiscal - Serviços',\\\n",
        "        'Carta/Declaração de Anuência - Nota Fiscal de Serviço','Declaração de não aproveitamento de crédito ICMS/IPI - Fornecedor',\\\n",
        "            'Envio de documentos para pagamento - Auxílio Conectividade','Envio de Documentos para Pagamento - Auxílio Educação',\\\n",
        "                'Identificação de pagamento/Abatimento','Prestação do Serviço em Desacordo (Exclusivo CT-e)',\\\n",
        "                    'Solicitação de Informe de Rendimentos','Portal de serviços'],['Fornecedor','Cliente','Alteração de Dados de Fornecedor','Cancelamento de NFM',\\\n",
        "                        'Cancelamento de NFS','Carta de Anuência','Declaração de não aproveitamento de ICMS/IPI',\\\n",
        "                            'Auxílio Conectividade','Auxílio Educação','Identificação de pagamento','Prestação do Serviço em Desacordo',\\\n",
        "                                'Informe de Rendimentos','Web']).drop(['Estado','Fornecedor','Cliente','Integrante','Canal','Sla Total','SLA Previsto','SLA Tempo medio'], axis=1)\n",
        "\n",
        "base['Solicitante'] = base['Solicitante'].fillna('Fornecedor')  #Preenchendo valores NA\n",
        "base['Empresa'] = base['Empresa'].fillna('INTEGRANTE')      #Preenchando valores NA\n",
        "base = base.reindex(columns=['Chamado','Primario','Tipo de Servicos','Categoria','Empresa','Solicitante','Grupo de atribuição','Atribuido','Aberto','Encerrado','Prazo','Atraso'])  #Organizando a Dataframe\n",
        "\n",
        "#Formatando colunas\n",
        "\n",
        "base['Aberto'] = pd.to_datetime(base['Aberto']) \n",
        "base['Encerrado'] = pd.to_datetime(base['Encerrado'])\n",
        "base['Prazo'] = pd.to_datetime(base['Prazo'])\n",
        "base['ETL'] = base['Encerrado'] - base['Aberto']\n",
        "\n",
        "base['out date'] = base['Atraso'].map({True:'Fora do prazo',False:'Dentro do prazo'})\n",
        "\n",
        "#Exportando para excel \n",
        "base.to_excel('Base_chamado.xlsx', index=False)\n",
        "\n",
        "#Analise e de backlogs para montar no PWBI\n",
        "base['Mes Abertura'] = base['Aberto'].dt.strftime('%m')\n",
        "base['Mes Encerrado'] = base['Encerrado'].dt.strftime('%m')\n",
        "bl = base[['Tipo de Servicos','Mes Abertura','Mes Encerrado']]\n",
        "bl1 = bl.groupby(['Mes Abertura','Mes Encerrado']).count().reset_index()\n",
        "bl1 = bl1.replace(['01','02','03','04','05','06','07','08','09','10','11','12'],['01/01/2022','01/02/2022','01/03/2022','01/04/2022','01/05/2022','01/06/2022','01/07/2022','01/08/2022','01/09/2022','01/10/2022','01/11/2022','01/12/2022'])\n",
        "\n",
        "\n",
        "#bl1.to_excel('backlogs.xlsx', index=False)\n",
        "#shutil.move('/content/backlogs.xlsx','/content/drive/Othercomputers/Meu laptop/Braskem CSV/backlogs.xlsx')\n",
        "\n",
        "\n",
        "#Analise de Tempo medio de trabalho ETL\n",
        "\n",
        "basetm = base[['Chamado','Tipo de Servicos','Aberto','Encerrado','Prazo','ETL']]\n",
        "tm = basetm.groupby(['Tipo de Servicos']).agg({'ETL':'mean','Tipo de Servicos': 'count'}).sort_values(by='ETL', ascending=False)\n",
        "#tm.to_excel('Tempo medio de chamados.xlsx')\n",
        "\n",
        "cs00task = pd.read_csv('/content/drive/Othercomputers/Meu laptop/Braskem CSV/sn_customerservice_task_case_sla.csv', encoding='ISO=8859-1', sep=',')  #importando a base de Tarefas p1\n",
        "\n",
        "cs00task.columns = ['Tarefa','Estado','Descrição','Chamado','Tipo de Servicos','Empresa','Aberto','Grupo de Atribuicao','Atribuido','Canal','Hora de violacao','Prazo','Encerrado','Definicao Prazo','Destino','Duração','% Tempo decorrido','Tempo Útil decorrido','Tempo Restante','SLA Total Previsto','Atraso','Hora de inicio']\n",
        "\n",
        "ritmtask = pd.read_csv('/content/drive/Othercomputers/Meu laptop/Braskem CSV/sn_customerservice_task_req_sla.csv', encoding='ISO=8859-1', sep=',') #importando a base de tarefas p2\n",
        "\n",
        "ritmtask.columns = ['Tarefa','Estado','Descrição','Chamado','Tipo de Servicos','Empresa','Aberto','Grupo de Atribuicao','Atribuido','Canal','Hora de violacao','Prazo','Encerrado','Definicao Prazo','Destino','Duração','% Tempo decorrido','Tempo Útil decorrido','Tempo Restante','SLA Total Previsto','Atraso','Hora de inicio']\n",
        "\n",
        "\n",
        "#Unificando o dateframe substituindo alguns nome de tipo de serviço\n",
        "base_task = pd.concat([cs00task,ritmtask], ignore_index=True).replace(['Processo da Compras ao Pagamento (Fornecedor)','Processo da Venda ao Recebimento (Cliente)',\\\n",
        "    'Alteração de Dados Bancários de Fornecedor','Cancelamento de Nota Fiscal - Material','Cancelamento de Nota Fiscal - Serviços',\\\n",
        "        'Carta/Declaração de Anuência - Nota Fiscal de Serviço','Declaração de não aproveitamento de crédito ICMS/IPI - Fornecedor',\\\n",
        "            'Envio de documentos para pagamento - Auxílio Conectividade','Envio de Documentos para Pagamento - Auxílio Educação',\\\n",
        "                'Identificação de pagamento/Abatimento','Prestação do Serviço em Desacordo (Exclusivo CT-e)',\\\n",
        "                    'Solicitação de Informe de Rendimentos','Portal de serviços','SC - N2 (UNIDADES)','SC-N2 (BA)','SC-N2 (SP)','SC-N2 (RJ)','SC-N2 (ABC)','SC-N2 (AL)','SC-N2 (RS)'],['Fornecedor','Cliente','Alteração de Dados de Fornecedor','Cancelamento de NFM',\\\n",
        "                        'Cancelamento de NFS','Carta de Anuência','Declaração de não aproveitamento de ICMS/IPI',\\\n",
        "                            'Auxílio Conectividade','Auxílio Educação','Identificação de pagamento','Prestação do Serviço em Desacordo',\\\n",
        "                                'Informe de Rendimentos','Web','SC - N1 - ADM DE PESSOAS','SC - N1 - ADM DE PESSOAS','SC - N1 - ADM DE PESSOAS','SC - N1 - ADM DE PESSOAS','SC - N1 - ADM DE PESSOAS','SC - N1 - ADM DE PESSOAS','SC - N1 - ADM DE PESSOAS'])\n",
        "\n",
        "\n",
        "base_task['Empresa'] = base_task['Empresa'].fillna('INTEGRANTE') #preenchendo dados NA\n",
        "base_task['Atribuido'] = base_task['Atribuido'].fillna('INTEGRANTE') #preenchendo dados NA\n",
        "\n",
        "# Divisão para descobrir a HORA e convertendo para formato INT\n",
        "base_task['Duração'] = (base_task['Duração'] / 3600).round().astype(int) \n",
        "base_task['Tempo Restante'] = (base_task['Tempo Restante'] / 3600).round().astype(int)\n",
        "base_task['SLA Total Previsto'] = (base_task['SLA Total Previsto'] / 3600).round().astype(int)\n",
        "\n",
        "base_task = base_task.drop(['Estado','Descrição','Definicao Prazo'], axis=1) #Retirada de colunas não utilizadas\n",
        "\n",
        "#Convertendo para STR para depois chamar como %\n",
        "base_task['% Tempo decorrido'] = (base_task['% Tempo decorrido'].str.replace(',','').astype(float)) / 100\n",
        "\n",
        "#Convertendo a formato data\n",
        "base_task['Aberto'] = pd.to_datetime(base_task['Aberto'])\n",
        "base_task['Hora de violacao'] = pd.to_datetime(base_task['Hora de violacao'])\n",
        "base_task['Prazo'] = pd.to_datetime(base_task['Prazo'])\n",
        "base_task['Encerrado'] = pd.to_datetime(base_task['Encerrado'])\n",
        "base_task['Hora de inicio'] = pd.to_datetime(base_task['Hora de inicio'])\n",
        "base_task['Tempo Útil decorrido'] = (base_task['Tempo Útil decorrido'] / 3600).round().astype(int)\n",
        "\n",
        "base_task['out date'] = base_task['Atraso'].map({True:'Fora do prazo',False:'Dentro do prazo'})\n",
        "#exportando como base excel\n",
        "base_task.to_excel('Base tarefa.xlsx', index=False)\n"
      ],
      "metadata": {
        "id": "oDcrogVW3Ydd"
      },
      "execution_count": null,
      "outputs": []
    },
    {
      "cell_type": "code",
      "source": [
        "display(base_task)"
      ],
      "metadata": {
        "id": "KrndyaROCwnk"
      },
      "execution_count": null,
      "outputs": []
    },
    {
      "cell_type": "code",
      "source": [
        "\n",
        "# movendo as bases antigas e limpando a pasta\n",
        "shutil.move('/content/Base_chamado.xlsx','/content/drive/Othercomputers/Meu laptop/Braskem CSV/Base chamado.xlsx')\n",
        "\n",
        "shutil.move('/content/drive/Othercomputers/Meu laptop/Braskem CSV/sn_customerservice_case.csv','/content/drive/Othercomputers/Meu laptop/Braskem CSV/base antigas/sn_customerservice_case.csv')\n",
        "shutil.move('/content/drive/Othercomputers/Meu laptop/Braskem CSV/sc_req_item.csv','/content/drive/Othercomputers/Meu laptop/Braskem CSV/base antigas/sc_req_item.csv')\n",
        "\n",
        "\n",
        "shutil.move('/content/Base tarefa.xlsx','/content/drive/Othercomputers/Meu laptop/Braskem CSV/Base tarefa.xlsx')\n",
        "shutil.move('/content/drive/Othercomputers/Meu laptop/Braskem CSV/sn_customerservice_task_case_sla.csv','/content/drive/Othercomputers/Meu laptop/Braskem CSV/base antigas/sn_customerservice_task_case_sla.csv')\n",
        "shutil.move('/content/drive/Othercomputers/Meu laptop/Braskem CSV/sn_customerservice_task_req_sla.csv','/content/drive/Othercomputers/Meu laptop/Braskem CSV/base antigas/sn_customerservice_task_req_sla.csv')\n",
        "#shutil.move('/content/resolução tarefas.xlsx','/content/drive/Othercomputers/Meu laptop/Braskem CSV/Resolução tarefas.xlsx')\n"
      ],
      "metadata": {
        "id": "X9TIIdr5nO6k",
        "colab": {
          "base_uri": "https://localhost:8080/",
          "height": 35
        },
        "outputId": "523ea21a-9d15-472a-a434-6e31b8545098"
      },
      "execution_count": null,
      "outputs": [
        {
          "output_type": "execute_result",
          "data": {
            "text/plain": [
              "'/content/drive/Othercomputers/Meu laptop/Braskem CSV/base antigas/sn_customerservice_task_req_sla.csv'"
            ],
            "application/vnd.google.colaboratory.intrinsic+json": {
              "type": "string"
            }
          },
          "metadata": {},
          "execution_count": 2
        }
      ]
    }
  ]
}